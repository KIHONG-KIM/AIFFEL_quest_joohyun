{
  "nbformat": 4,
  "nbformat_minor": 0,
  "metadata": {
    "colab": {
      "provenance": [],
      "include_colab_link": true
    },
    "kernelspec": {
      "name": "python3",
      "display_name": "Python 3"
    },
    "language_info": {
      "name": "python"
    }
  },
  "cells": [
    {
      "cell_type": "markdown",
      "metadata": {
        "id": "view-in-github",
        "colab_type": "text"
      },
      "source": [
        "<a href=\"https://colab.research.google.com/github/freentour/AIFFEL_quest/blob/main/Python_quest/QUEST_C01.ipynb\" target=\"_parent\"><img src=\"https://colab.research.google.com/assets/colab-badge.svg\" alt=\"Open In Colab\"/></a>"
      ]
    },
    {
      "cell_type": "code",
      "source": [
        "# 회고\n",
        "# - 단어 뿐만 아니라 띄어쓰기가 있는 구 또는 문장의 경우에도 동작하도록 추가 필요\n",
        "# - 띄어쓰기 뿐 아니라 여타 특수문자 처리 필요\n",
        "# - 한국어 뿐만 아니라 타 언어에 대한 처리를 위해 대소문자 처리를 위한 작업 필요\n",
        "# - 본 회고 완성을 위해 찾아본 정보\n",
        "#   - 띄어쓰기 / 특수 문자 제거 방법 : translate 함수, re 모듈, 반복문으로 직접 처리\n",
        "#   - 대소문자 : 파이썬의 lowercase 함수 사용\n",
        "\n",
        "#   * 회문 문장 예시\n",
        "#   - 한국어 : 여보 안경 안보여? 다시 합창합시다!\n",
        "#   - 영어 : Madam, in Eden, I'm Adam. Was it a car or a cat I saw?\n",
        "\n",
        "\n",
        "input_str = input()   # 사용자로부터 문자열 입력을 받음\n",
        "# print(input_str)\n",
        "\n",
        "len_input_str = len(input_str)  # 입력받은 문자열의 길이를 계산해서 새로운 변수에 저장\n",
        "# print(len_input_str)\n",
        "converted_list = list(input_str)  # 문자열 형식은 immutable type이어서 직접 수정이 안되기 때문에 리스트 형식으로 변환\n",
        "\n",
        "for i in range(len_input_str):  # 입력받은 문자열의 길이만큼 반복\n",
        "  converted_list[i] = input_str[len_input_str-(i+1)]  # 입력받은 문자열을 뒤집어서 저장\n",
        "  # print(input_str[len_input_str - (i + 1)])\n",
        "\n",
        "# print(converted_list)\n",
        "\n",
        "converted_str = ''.join(converted_list)   # 리스트를 다시 문자열로 변환하기 위해 join 메소드 사용\n",
        "# print(converted_str)\n",
        "\n",
        "if converted_str == input_str:  # 뒤집어진 문자열과 최초 입력받은 문자열이 같은지 비교\n",
        "  print(\"회문이 맞습니다.\")\n",
        "else:\n",
        "  print(\"회문이 아닙니다.\")\n"
      ],
      "metadata": {
        "colab": {
          "base_uri": "https://localhost:8080/"
        },
        "id": "Onn7OPv3L_RM",
        "outputId": "27f38ab0-6069-4f3d-c25b-41661bcfd207"
      },
      "execution_count": null,
      "outputs": [
        {
          "output_type": "stream",
          "name": "stdout",
          "text": [
            "강아지\n",
            "회문이 아닙니다.\n"
          ]
        }
      ]
    }
  ]
}