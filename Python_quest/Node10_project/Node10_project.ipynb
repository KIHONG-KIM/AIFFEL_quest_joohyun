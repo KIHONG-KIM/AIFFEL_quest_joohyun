{
  "nbformat": 4,
  "nbformat_minor": 0,
  "metadata": {
    "colab": {
      "provenance": [],
      "authorship_tag": "ABX9TyPMO4eC7bK/wPMk3m2r7NfR",
      "include_colab_link": true
    },
    "kernelspec": {
      "name": "python3",
      "display_name": "Python 3"
    },
    "language_info": {
      "name": "python"
    }
  },
  "cells": [
    {
      "cell_type": "markdown",
      "metadata": {
        "id": "view-in-github",
        "colab_type": "text"
      },
      "source": [
        "<a href=\"https://colab.research.google.com/github/freentour/AIFFEL_quest/blob/main/Python_quest/Node10_project/Node10_project.ipynb\" target=\"_parent\"><img src=\"https://colab.research.google.com/assets/colab-badge.svg\" alt=\"Open In Colab\"/></a>"
      ]
    },
    {
      "cell_type": "markdown",
      "source": [
        "# 사각형 넓이 구하기"
      ],
      "metadata": {
        "id": "5lbHiXpC8aZ5"
      }
    },
    {
      "cell_type": "code",
      "execution_count": 1,
      "metadata": {
        "id": "V_06N4Ht59sO"
      },
      "outputs": [],
      "source": [
        "# 사각형 넓이 구하기\n",
        "class Square:\n",
        "    def __init__(self):\n",
        "        self.square = int(input('넓이를 구하고 싶은 사각형의 숫자를 써주세요.\\n 1.직사각형 2.평행사변형 3.사다리꼴 \\n >>>'))\n",
        "\n",
        "        if self.square == 1:\n",
        "            print('직사각형 함수는 rect()입니다.')\n",
        "\n",
        "        elif self.square == 2:\n",
        "            print('평행사변형 함수는 par()입니다.')\n",
        "\n",
        "        elif self.square == 3:\n",
        "            print('사다리꼴 함수는 trape()입니다.')\n",
        "\n",
        "        else:\n",
        "            print('1, 2, 3 중에서 다시 입력해주세요')\n",
        "\n",
        "    def rect(self):\n",
        "        width, vertical = map(int, input('가로, 세로를 입력하세요. 예시 : 가로,세로\\n >>>').split(','))\n",
        "        area = width * vertical\n",
        "        result = '직사각형의 넓이는 : ' + str(area)\n",
        "        return result\n",
        "\n",
        "    def par(self):\n",
        "        bottom, height = map(int, input('밑변, 높이를 입력하세요. 예시 : 밑변,높이\\n >>>').split(','))\n",
        "        area = bottom * height\n",
        "        result = '평행사변형의 넓이는 : ' + str(area)\n",
        "        return result\n",
        "\n",
        "    def trape(self):\n",
        "        bottom, top, height = map(int, input('밑변, 윗변, 높이를 입력하세요. 예시 : 밑변,윗변,높이\\n >>>').split(','))\n",
        "        area = (bottom + top) * height * 1/2\n",
        "        result = '사다리꼴의 넓이는 : ' + str(area)\n",
        "        return result"
      ]
    },
    {
      "cell_type": "code",
      "source": [
        "# 직사각형 넓이 구하기\n",
        "a = Square()\n",
        "a.rect()"
      ],
      "metadata": {
        "colab": {
          "base_uri": "https://localhost:8080/",
          "height": 142
        },
        "id": "xLdQboeO6xU9",
        "outputId": "73102f93-57a6-4873-8db1-62208b4e6e97"
      },
      "execution_count": 5,
      "outputs": [
        {
          "name": "stdout",
          "output_type": "stream",
          "text": [
            "넓이를 구하고 싶은 사각형의 숫자를 써주세요.\n",
            " 1.직사각형 2.평행사변형 3.사다리꼴 \n",
            " >>>1\n",
            "직사각형 함수는 rect()입니다.\n",
            "가로, 세로를 입력하세요. 예시 : 가로,세로\n",
            " >>>2,3\n"
          ]
        },
        {
          "output_type": "execute_result",
          "data": {
            "text/plain": [
              "'직사각형의 넓이는 : 6'"
            ],
            "application/vnd.google.colaboratory.intrinsic+json": {
              "type": "string"
            }
          },
          "metadata": {},
          "execution_count": 5
        }
      ]
    },
    {
      "cell_type": "code",
      "source": [
        "# 평행사변형 넓이 구하기\n",
        "a = Square()\n",
        "a.par()"
      ],
      "metadata": {
        "colab": {
          "base_uri": "https://localhost:8080/",
          "height": 142
        },
        "id": "HxgURxRl8Bmw",
        "outputId": "59b916f1-adfb-4a8f-b05e-aa1ef12e1ad3"
      },
      "execution_count": 6,
      "outputs": [
        {
          "name": "stdout",
          "output_type": "stream",
          "text": [
            "넓이를 구하고 싶은 사각형의 숫자를 써주세요.\n",
            " 1.직사각형 2.평행사변형 3.사다리꼴 \n",
            " >>>2\n",
            "평행사변형 함수는 par()입니다.\n",
            "밑변, 높이를 입력하세요. 예시 : 밑변,높이\n",
            " >>>3,2\n"
          ]
        },
        {
          "output_type": "execute_result",
          "data": {
            "text/plain": [
              "'평행사변형의 넓이는 : 6'"
            ],
            "application/vnd.google.colaboratory.intrinsic+json": {
              "type": "string"
            }
          },
          "metadata": {},
          "execution_count": 6
        }
      ]
    },
    {
      "cell_type": "code",
      "source": [
        "# 사다리꼴 넓이 구하기\n",
        "a = Square()\n",
        "a.trape()"
      ],
      "metadata": {
        "colab": {
          "base_uri": "https://localhost:8080/",
          "height": 142
        },
        "id": "kwU8tmXT8K0F",
        "outputId": "0005a60d-9fe6-4fcb-b88e-15c924dd4f55"
      },
      "execution_count": 7,
      "outputs": [
        {
          "name": "stdout",
          "output_type": "stream",
          "text": [
            "넓이를 구하고 싶은 사각형의 숫자를 써주세요.\n",
            " 1.직사각형 2.평행사변형 3.사다리꼴 \n",
            " >>>3\n",
            "사다리꼴 함수는 trape()입니다.\n",
            "밑변, 윗변, 높이를 입력하세요. 예시 : 밑변,윗변,높이\n",
            " >>>3,2,1\n"
          ]
        },
        {
          "output_type": "execute_result",
          "data": {
            "text/plain": [
              "'사다리꼴의 넓이는 : 2.5'"
            ],
            "application/vnd.google.colaboratory.intrinsic+json": {
              "type": "string"
            }
          },
          "metadata": {},
          "execution_count": 7
        }
      ]
    },
    {
      "cell_type": "markdown",
      "source": [
        "# 키오스크 만들기"
      ],
      "metadata": {
        "id": "K5rc2r7Y8W-7"
      }
    },
    {
      "cell_type": "code",
      "source": [
        "# 주문서 외곽 양식을 데코레이터로 꾸미기\n",
        "def outer(func):\n",
        "  def inner(self):    # 클래스 내 table() 메소드에 바인딩될 것이기 때문에 self 파라미터 필수!\n",
        "    # 외곽\n",
        "    print('⟝' + '-' * 30 + '⟞')\n",
        "    for i in range(5):\n",
        "        print('|' + ' ' * 31 + '|')\n",
        "\n",
        "    result = func(self)   # inner() 함수에 바인딩된 table() 메소드를 호출하는 것이기 때문에 self 파라미터 필수!\n",
        "\n",
        "    # 외곽\n",
        "    for i in range(5):\n",
        "        print('|' + ' ' * 31+ '|')\n",
        "    print('⟝' + '-' * 30 + '⟞')\n",
        "\n",
        "    return result\n",
        "\n",
        "  return inner"
      ],
      "metadata": {
        "id": "nA2Q4vqI_QI5"
      },
      "execution_count": 16,
      "outputs": []
    },
    {
      "cell_type": "code",
      "source": [
        "# 키오스크 만들기\n",
        "class Kiosk:\n",
        "    def __init__(self):\n",
        "        self.menu = ['아메리카노', '라떼', '카푸치노', '밀크티', '자몽허니블랙티', '유자차']\n",
        "        self.price = [2000, 3000, 3000, 3500, 4000, 3500]\n",
        "        self.menu_nums = [i+1 for i in range(len(self.menu))]\n",
        "        self.temp_options = {1:'HOT', 2:'ICE'}\n",
        "        self.order_menu = []\n",
        "        self.order_price = []\n",
        "        self.price_sum = 0  # 초기화\n",
        "\n",
        "    # 메뉴 출력 메서드\n",
        "    def menu_print(self):\n",
        "        print(\"-\"*10, \"메뉴\", \"-\"*10)\n",
        "        for i in range(len(self.menu)):\n",
        "            print(f\"{i+1}. {self.menu[i]} : {self.price[i]:,}원\")\n",
        "        print(\"\\n\")\n",
        "\n",
        "    # 주문 메서드\n",
        "    def menu_select(self):\n",
        "        n = 0\n",
        "        while n not in self.menu_nums:\n",
        "            try:\n",
        "                n = int(input(\"메뉴 번호를 입력해 주세요.\"))\n",
        "            except ValueError:\n",
        "                print(\"숫자만 입력할 수 있습니다. 다시 입력해 주세요.\")\n",
        "                continue    # 사실 continue가 없어도 되지만 가독성을 위해 추가.\n",
        "\n",
        "            if n not in self.menu_nums:\n",
        "                print(\"메뉴에 없는 번호입니다. 다시 입력해 주세요.\")\n",
        "                continue    # 사실 continue가 없어도 되지만 가독성을 위해 추가.\n",
        "            else:\n",
        "                break   # 사실 else 문이 없어도 되지만 가독성을 위해 추가.\n",
        "\n",
        "        # HOT 또는 ICE 선택\n",
        "        t = 0\n",
        "        while t not in self.temp_options.keys():   # 1: HOT, 2: ICE\n",
        "            try:\n",
        "                t = int(input(\"HOT은 1번, ICE는 2번을 입력해 주세요.\"))\n",
        "            except ValueError:\n",
        "                print(\"숫자만 입력할 수 있습니다. 다시 입력해 주세요.\")\n",
        "                continue    # 사실 continue가 없어도 되지만 가독성을 위해 추가.\n",
        "\n",
        "            if t not in self.temp_options.keys():\n",
        "                print(\"1번 또는 2번을 선택해야 합니다. 다시 입력해 주세요.\")\n",
        "                continue    # 사실 continue가 없어도 되지만 가독성을 위해 추가.\n",
        "            else:\n",
        "                break   # 사실 else 문이 없어도 되지만 가독성을 위해 추가.\n",
        "\n",
        "        # 선택한 메뉴와 가격 추가\n",
        "        self.order_menu.append(f\"({self.temp_options[t]}) {self.menu[n-1]}\")\n",
        "        self.order_price.append(self.price[n-1])\n",
        "\n",
        "        # 합계 업데이트\n",
        "        self.price_sum += self.price[n-1]\n",
        "\n",
        "        # 선택한 메뉴 출력\n",
        "        print(f\"주문 내역 : ({self.temp_options[t]}) {self.menu[n-1]} : {self.price[n-1]:,}원\")\n",
        "\n",
        "        # 추가 주문 또는 지불\n",
        "        while n != 0:  # 지불을 선택하기 전까지 반복\n",
        "            print(\"\\n\")\n",
        "\n",
        "            try:\n",
        "                n = int(input(\"추가 주문은 음료 번호를, 지불은 0을 누르세요 : \"))  # 추가 주문 또는 지불\n",
        "            except ValueError:\n",
        "                print(\"숫자만 입력할 수 있습니다. 다시 입력해 주세요.\")\n",
        "                continue\n",
        "\n",
        "            if n not in self.menu_nums:\n",
        "                if n == 0:\n",
        "                    print(\"주문이 완료되었습니다.\")\n",
        "                    # 주문 내역, 주문 금액 리스트 확인\n",
        "                    print(self.order_menu)\n",
        "                    print(self.order_price)\n",
        "                    print(f\"총 합계 금액은 {self.price_sum:,}원입니다.\")\n",
        "                else:\n",
        "                    print(\"메뉴에 없는 번호입니다. 다시 입력해 주세요.\")\n",
        "                    continue\n",
        "            else:\n",
        "                # 추가 주문 음료의 온도 선택\n",
        "                t = 0\n",
        "                while t not in self.temp_options.keys():   # 1: HOT, 2: ICE\n",
        "                    try:\n",
        "                        t = int(input(\"HOT은 1번, ICE는 2번을 입력해 주세요.\"))\n",
        "                    except ValueError:\n",
        "                        print(\"숫자만 입력할 수 있습니다. 다시 입력해 주세요.\")\n",
        "                        continue    # 사실 continue가 없어도 되지만 가독성을 위해 추가.\n",
        "\n",
        "                    if t not in self.temp_options.keys():\n",
        "                        print(\"1번 또는 2번을 선택해야 합니다. 다시 입력해 주세요.\")\n",
        "                        continue    # 사실 continue가 없어도 되지만 가독성을 위해 추가.\n",
        "                    else:\n",
        "                        break   # 사실 else 문이 없어도 되지만 가독성을 위해 추가.\n",
        "\n",
        "                # 선택한 메뉴와 가격 추가\n",
        "                self.order_menu.append(f\"({self.temp_options[t]}) {self.menu[n-1]}\")\n",
        "                self.order_price.append(self.price[n-1])\n",
        "\n",
        "                # 합계 업데이트\n",
        "                self.price_sum += self.price[n-1]\n",
        "\n",
        "                # 선택한 메뉴 출력\n",
        "                print(f\"추가 주문 내역 : ({self.temp_options[t]}) {self.menu[n-1]} : {self.price[n-1]:,}원\")\n",
        "                print(f\"주문 금액(누적)  : {self.price_sum:,}원\")\n",
        "\n",
        "    # 지불\n",
        "    def pay(self):\n",
        "        # 현금 또는 카드 선택\n",
        "        p = 0\n",
        "        while p not in [1, 2]:   # 1: 현금, 2: 카드\n",
        "            try:\n",
        "                p = int(input(\"현금은 1번, 카드는 2번을 입력해 주세요.\"))\n",
        "            except ValueError:\n",
        "                print(\"숫자만 입력할 수 있습니다. 다시 입력해 주세요.\")\n",
        "                continue    # 사실 continue가 없어도 되지만 가독성을 위해 추가.\n",
        "\n",
        "            if p not in [1, 2]:     # 1: 현금, 2: 카드\n",
        "                print(\"1번 또는 2번을 선택해야 합니다. 다시 입력해 주세요.\")\n",
        "                continue    # 사실 continue가 없어도 되지만 가독성을 위해 추가.\n",
        "            else:\n",
        "                break   # 사실 else 문이 없어도 되지만 가독성을 위해 추가.\n",
        "\n",
        "        if p == 1:\n",
        "            print(\"직원을 부르겠습니다.\")\n",
        "        elif p == 2:\n",
        "            print(\"IC칩 방향에 맞게 카드를 넣어주세요.\")\n",
        "\n",
        "    # 주문서 출력\n",
        "    @outer    # 외곽 꾸미기는 데코레이터로 구현\n",
        "    def table(self):\n",
        "        # # 외곽\n",
        "        # print('⟝' + '-' * 30 + '⟞')\n",
        "        # for i in range(5):\n",
        "        #     print('|' + ' ' * 31 + '|')\n",
        "\n",
        "        # 주문 상품명 : 해당 금액\n",
        "        for i in range(len(self.order_menu)):\n",
        "            print(f\"{self.order_menu[i]} : {self.order_price[i]:,}원\")\n",
        "\n",
        "        print(f\"합계 금액 : {sum(self.order_price):,}원\")\n",
        "\n",
        "        # # 외곽\n",
        "        # for i in range(5):\n",
        "        #     print('|' + ' ' * 31+ '|')\n",
        "        # print('⟝' + '-' * 30 + '⟞')"
      ],
      "metadata": {
        "id": "_DfDp-hn8Vaf"
      },
      "execution_count": 17,
      "outputs": []
    },
    {
      "cell_type": "code",
      "source": [
        "a = Kiosk()  # 객체 생성\n",
        "a.menu_print()  # 메뉴 출력\n",
        "a.menu_select()  # 주문\n",
        "a.pay()  # 지불\n",
        "a.table()  # 주문표 출력"
      ],
      "metadata": {
        "colab": {
          "base_uri": "https://localhost:8080/"
        },
        "id": "mGcFaOfM8vQ7",
        "outputId": "d4fd058a-f62c-4f1e-c4a3-0276751666cd"
      },
      "execution_count": 18,
      "outputs": [
        {
          "output_type": "stream",
          "name": "stdout",
          "text": [
            "---------- 메뉴 ----------\n",
            "1. 아메리카노 : 2,000원\n",
            "2. 라떼 : 3,000원\n",
            "3. 카푸치노 : 3,000원\n",
            "4. 밀크티 : 3,500원\n",
            "5. 자몽허니블랙티 : 4,000원\n",
            "6. 유자차 : 3,500원\n",
            "\n",
            "\n",
            "메뉴 번호를 입력해 주세요.1\n",
            "HOT은 1번, ICE는 2번을 입력해 주세요.2\n",
            "주문 내역 : (ICE) 아메리카노 : 2,000원\n",
            "\n",
            "\n",
            "추가 주문은 음료 번호를, 지불은 0을 누르세요 : 2\n",
            "HOT은 1번, ICE는 2번을 입력해 주세요.1\n",
            "추가 주문 내역 : (HOT) 라떼 : 3,000원\n",
            "주문 금액(누적)  : 5,000원\n",
            "\n",
            "\n",
            "추가 주문은 음료 번호를, 지불은 0을 누르세요 : 3\n",
            "HOT은 1번, ICE는 2번을 입력해 주세요.1\n",
            "추가 주문 내역 : (HOT) 카푸치노 : 3,000원\n",
            "주문 금액(누적)  : 8,000원\n",
            "\n",
            "\n",
            "추가 주문은 음료 번호를, 지불은 0을 누르세요 : 4\n",
            "HOT은 1번, ICE는 2번을 입력해 주세요.2\n",
            "추가 주문 내역 : (ICE) 밀크티 : 3,500원\n",
            "주문 금액(누적)  : 11,500원\n",
            "\n",
            "\n",
            "추가 주문은 음료 번호를, 지불은 0을 누르세요 : 5\n",
            "HOT은 1번, ICE는 2번을 입력해 주세요.2\n",
            "추가 주문 내역 : (ICE) 자몽허니블랙티 : 4,000원\n",
            "주문 금액(누적)  : 15,500원\n",
            "\n",
            "\n",
            "추가 주문은 음료 번호를, 지불은 0을 누르세요 : 6\n",
            "HOT은 1번, ICE는 2번을 입력해 주세요.1\n",
            "추가 주문 내역 : (HOT) 유자차 : 3,500원\n",
            "주문 금액(누적)  : 19,000원\n",
            "\n",
            "\n",
            "추가 주문은 음료 번호를, 지불은 0을 누르세요 : 0\n",
            "주문이 완료되었습니다.\n",
            "['(ICE) 아메리카노', '(HOT) 라떼', '(HOT) 카푸치노', '(ICE) 밀크티', '(ICE) 자몽허니블랙티', '(HOT) 유자차']\n",
            "[2000, 3000, 3000, 3500, 4000, 3500]\n",
            "총 합계 금액은 19,000원입니다.\n",
            "현금은 1번, 카드는 2번을 입력해 주세요.1\n",
            "직원을 부르겠습니다.\n",
            "⟝------------------------------⟞\n",
            "|                               |\n",
            "|                               |\n",
            "|                               |\n",
            "|                               |\n",
            "|                               |\n",
            "(ICE) 아메리카노 : 2,000원\n",
            "(HOT) 라떼 : 3,000원\n",
            "(HOT) 카푸치노 : 3,000원\n",
            "(ICE) 밀크티 : 3,500원\n",
            "(ICE) 자몽허니블랙티 : 4,000원\n",
            "(HOT) 유자차 : 3,500원\n",
            "합계 금액 : 19,000원\n",
            "|                               |\n",
            "|                               |\n",
            "|                               |\n",
            "|                               |\n",
            "|                               |\n",
            "⟝------------------------------⟞\n"
          ]
        }
      ]
    }
  ]
}