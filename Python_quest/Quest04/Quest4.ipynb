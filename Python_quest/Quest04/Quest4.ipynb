{
  "nbformat": 4,
  "nbformat_minor": 0,
  "metadata": {
    "colab": {
      "provenance": [],
      "include_colab_link": true
    },
    "kernelspec": {
      "name": "python3",
      "display_name": "Python 3"
    },
    "language_info": {
      "name": "python"
    }
  },
  "cells": [
    {
      "cell_type": "markdown",
      "metadata": {
        "id": "view-in-github",
        "colab_type": "text"
      },
      "source": [
        "<a href=\"https://colab.research.google.com/github/freentour/AIFFEL_quest/blob/main/Python_quest/Quest04/Quest4.ipynb\" target=\"_parent\"><img src=\"https://colab.research.google.com/assets/colab-badge.svg\" alt=\"Open In Colab\"/></a>"
      ]
    },
    {
      "cell_type": "markdown",
      "source": [
        "# 회고\n",
        "- 김소영\n",
        "\n",
        "  - 처음에는 간단하다고 생각한 프로그램이 코드를 짜는 사람 입장이 아닌 실제 사용자의 입장에서 생각해서 코드들을 수정하다보니 코드가 점점 길어지고 복잡해졌다.\n",
        "    - 예를 들어 #메인프로그램 시작 부분에서 처음엔 맨 윗부분에 'While true'문을 한번만 넣고 코드를 짰었는데, 실행해보니 첫번째 숫자에서 오류가나도, 연산자에서 오류가 나도, 두번째 숫자에서 오류가 나도 계속 첫번째 숫자부터 다시 입력을 받아야 했다. 오류가 난 부분부터 다시 입력을 받아야 사용하는 사람 입장에서도 편할거라고 생각해 각 try문 마다 while 문을 넣었고 그 결과 좀 더 사용하기 쉬운 프로그램이 됐다.\n",
        "\n",
        "  - 항상 코딩을 할 때 내 입장에서만 생각해서 내가 짜기 쉬운 코딩을 했었던 것 같은데 사용자 입장에서 코딩을 해보니 깨닫는게 많았다.\n",
        "\n",
        "  - 초기에 코드를 작성할 때에는  모든 예외나, 오류가 났을때 해결 할 것들을 는 calculator 안에서 처리하려고 했지만 주현님과 상의 한 결과 함수 생성한 부분에선 계산에 관한것만, 밑에 메인부분에서는 그 외의 것들을 처리하는 것이 좋을 것 같다는 의견이 나와서 그렇게 코드를 짰더니 가독성이 훨씬 좋아진 것 같았다.\n",
        "\n",
        "- 김주현\n",
        "  - 메인 프로그램 파트와 계산만 전담하는 파트를 구분해서 계산만 전담하는 파트를 함수로 정의해 사용하는 것이 좀 더 가독성있는 코드가 될 것으로 보고 그렇게 적용함.\n",
        "  - 하지만, 이렇게 하는 경우 함수 내에서 예외 상황이 발생하면 함수 내에서는 사용자로부터 다시 입력을 받거나 할 수 없기 때문에(해당 기능은 메인 프로그램 파트에서 처리하고 있어서) 예외 상황이 난 것을 메인 프로그램 파트 쪽으로 알려주기 위한 별도의 방법이 필요함.\n",
        "  - 그럼에도 불구하고 역할을 구분해서 별도의 함수로 작성하는 방식이 좀 더 전체적인 가독성을 높이고 문제가 발생했을 때 디버깅하는 것에 있어서도 좀 더 좋은 접근 방식이라고 생각됨.\n",
        "  - 소영님이 적어준 회고 내용처럼 사용자 입력이 잘못된 경우 잘못된 부분만 재입력할 수 있도록 처리하는 것이 사용자에게 좀 더 좋을 것이라는 소영님의 의견을 적극적으로 받아 각각의 입력 요소 내에서 정상 입력 여부를 체크하도록 함께 수정한 부분이 특히 인상적이었음.\n",
        "  - 역시 오늘의 페어 프로그래밍도 재미있었음!"
      ],
      "metadata": {
        "id": "ZaXWvXURPrMs"
      }
    },
    {
      "cell_type": "markdown",
      "source": [
        "# 파이썬을 사용하여 간단한 계산기 프로그램 만들기\n",
        "- 사용자로부터 두개의 정수와 연산자(+,-,/,*,**)를 입력받아 계산 결과를 출력하는 프로그램을 만들어주세요\n",
        "\n",
        "- 조건\n",
        "  - 사용자가 입력한 값이 정수가 아닌 경우 ValueeError를 처리하여 적절한 오류 메시지를 출력해야 합니다.\n",
        "\n",
        "  - 정수가 입력될 때 까지 \"잘못된 입력입니다. 정수를 입력해주세요\"를 출력하며 다시 입력받기를 시도합니다.\n",
        "\n",
        "  - 나눗셈 연산 시 두 번째 정수가 0인 경우 ZeroDivisionError를 처리하여 적절한 오류 메시지를 출력합니다.\n",
        "\n",
        "  - 사용자가 지원하지 않는 연산자를 입력한 경우 적절한 오류 메시지를 출력합니다.\n",
        "\n",
        "  - math 모듈을 사용하여 제곱 연산(**)을 지원합니다.\n",
        "  \n",
        "  - 계산기를 통해 계속 계산을 할 것인지 입력받습니다."
      ],
      "metadata": {
        "id": "ngbjyh23QBUD"
      }
    },
    {
      "cell_type": "code",
      "source": [
        "from math import pow\n",
        "\n",
        "# 계산 전용 함수 : 파라미터는 메인 프로그램에서 모두 사전 검사\n",
        "def calculator(a, op, b):\n",
        "  if op == \"+\":\n",
        "    result = a+b\n",
        "  elif op == \"-\":\n",
        "    result = a-b\n",
        "  elif op == \"*\":\n",
        "    result = a*b\n",
        "  elif op == \"/\":\n",
        "    try:\n",
        "      result = a/b\n",
        "    except ZeroDivisionError:\n",
        "      result = \"ZeroDivisionError\"  # 함수 내에서는 처리할 수 없으므로 메인 프로그램으로 예외 상황을 전달\n",
        "  elif op == \"**\":\n",
        "    result = int(pow(a,b))\n",
        "\n",
        "  return result\n",
        "\n",
        "# 메인 프로그램 시작\n",
        "print(\"계산기 프로그램을 시작하겠습니다.\")\n",
        "\n",
        "while True:   # 프로그램 계속 여부에 대한 반복문\n",
        "  while True:   # 첫번째 숫자에 대한 반복문\n",
        "    try:\n",
        "      first = int(input(\"첫번째 숫자를 입력해 주세요.\"))\n",
        "    except ValueError:\n",
        "      print(\"잘못된 입력입니다. 정수를 입력해 주세요.\")\n",
        "      continue\n",
        "    else:\n",
        "      break\n",
        "\n",
        "  while True:   # 연산자에 대한 반복문\n",
        "    operator = input(\"연산자를 입력해 주세요. (+,-,*,/,** 연산자만 가능)\")\n",
        "\n",
        "    operator_list = ['+', '-', '*', '/', '**']\n",
        "    if operator not in operator_list:\n",
        "      print(\"허용되지 않은 연산자입니다. 다시 입력해 주세요.\")\n",
        "      continue\n",
        "    else:\n",
        "      break\n",
        "\n",
        "  while True:   # 두번째 숫자에 대한 반복문\n",
        "    try:\n",
        "      second = int(input(\"두번째 숫자를 입력해 주세요.\"))\n",
        "    except ValueError:\n",
        "      print(\"잘못된 입력입니다. 정수를 입력해 주세요.\")\n",
        "      continue\n",
        "    else:\n",
        "      break\n",
        "\n",
        "  # 실제 계산은 calculator 함수에서 전담\n",
        "  result = calculator(first, operator, second)\n",
        "\n",
        "  # ZeroDivisionError 상황에 대한 처리\n",
        "  if result == \"ZeroDivisionError\":\n",
        "    print(\"0으로 나눌 수 없습니다. 다시 입력해 주세요.\")\n",
        "    continue\n",
        "\n",
        "  # 계산 결과 출력\n",
        "  print(first, operator, second, \"=\", result)\n",
        "\n",
        "  is_continue = input(\"계속하시겠습니까?(Y/N)\").lower()\n",
        "  if is_continue != 'y':\n",
        "    print(\"계산기를 종료하겠습니다.\")\n",
        "    break\n",
        "\n"
      ],
      "metadata": {
        "id": "k0Yt01onRRYg",
        "colab": {
          "base_uri": "https://localhost:8080/"
        },
        "outputId": "34fa81c4-2d0c-4524-c9ba-b7243749610f"
      },
      "execution_count": 5,
      "outputs": [
        {
          "output_type": "stream",
          "name": "stdout",
          "text": [
            "계산기 프로그램을 시작하겠습니다.\n",
            "첫번째 숫자를 입력해 주세요.주현\n",
            "잘못된 입력입니다. 정수를 입력해 주세요.\n",
            "첫번째 숫자를 입력해 주세요.3.1\n",
            "잘못된 입력입니다. 정수를 입력해 주세요.\n",
            "첫번째 숫자를 입력해 주세요.-2\n",
            "연산자를 입력해 주세요. (+,-,*,/,** 연산자만 가능)%\n",
            "허용되지 않은 연산자입니다. 다시 입력해 주세요.\n",
            "연산자를 입력해 주세요. (+,-,*,/,** 연산자만 가능)&\n",
            "허용되지 않은 연산자입니다. 다시 입력해 주세요.\n",
            "연산자를 입력해 주세요. (+,-,*,/,** 연산자만 가능)+\n",
            "두번째 숫자를 입력해 주세요.3\n",
            "-2 + 3 = 1\n",
            "계속하시겠습니까?(Y/N)y\n",
            "첫번째 숫자를 입력해 주세요.4\n",
            "연산자를 입력해 주세요. (+,-,*,/,** 연산자만 가능)/\n",
            "두번째 숫자를 입력해 주세요.0\n",
            "0으로 나눌 수 없습니다. 다시 입력해 주세요.\n",
            "첫번째 숫자를 입력해 주세요.4\n",
            "연산자를 입력해 주세요. (+,-,*,/,** 연산자만 가능)/\n",
            "두번째 숫자를 입력해 주세요.2\n",
            "4 / 2 = 2.0\n",
            "계속하시겠습니까?(Y/N)n\n",
            "계산기를 종료하겠습니다.\n"
          ]
        }
      ]
    },
    {
      "cell_type": "code",
      "execution_count": null,
      "metadata": {
        "id": "5AQphI5BNlJN"
      },
      "outputs": [],
      "source": [
        "\n",
        "\n",
        "import math\n",
        "def calculator() :\n",
        "  try :\n",
        "      num1 = input(\"첫번째 숫자 : \")\n",
        "      a = input(\"(+, -, *, /, **)\")\n",
        "      num2 =  input(\"두번째 숫자 : \")\n",
        "\n",
        "      if a == '+' :\n",
        "        result = num1 + num2\n",
        "      elif a == '-' :\n",
        "        result = num1 - num2\n",
        "      elif a == '*' :\n",
        "\n",
        "\n",
        "\n"
      ]
    }
  ]
}