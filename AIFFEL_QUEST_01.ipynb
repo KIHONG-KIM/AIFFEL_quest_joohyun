{
  "nbformat": 4,
  "nbformat_minor": 0,
  "metadata": {
    "colab": {
      "provenance": [],
      "include_colab_link": true
    },
    "kernelspec": {
      "name": "python3",
      "display_name": "Python 3"
    },
    "language_info": {
      "name": "python"
    }
  },
  "cells": [
    {
      "cell_type": "markdown",
      "metadata": {
        "id": "view-in-github",
        "colab_type": "text"
      },
      "source": [
        "<a href=\"https://colab.research.google.com/github/xunzxe/AIFFEL_quest/blob/main/AIFFEL_QUEST_01.ipynb\" target=\"_parent\"><img src=\"https://colab.research.google.com/assets/colab-badge.svg\" alt=\"Open In Colab\"/></a>"
      ]
    },
    {
      "cell_type": "code",
      "execution_count": 45,
      "metadata": {
        "id": "VHh-MrZvHU8o",
        "colab": {
          "base_uri": "https://localhost:8080/"
        },
        "outputId": "fa3fdc8f-8c96-4d67-d402-a5c820fb719a"
      },
      "outputs": [
        {
          "output_type": "stream",
          "name": "stdout",
          "text": [
            "입력값 :\n",
            "서은재\n",
            "\n",
            "출력값 :\n",
            "뒤집힌 단어는 : 재은서\n",
            "입력된 단어는 회문이 아닙니다.\n"
          ]
        }
      ],
      "source": [
        "#회고 : 입력편의성까지 생각한 코딩을 해보고 싶다.\n",
        "\n",
        "name = input(\"입력값 :\\n\")\n",
        "oname = str(name) # 문자열로 변환\n",
        "rname = oname.replace(\" \",\"\") # 회문 공백 제거: 공백이 있는 회문의 경우 공백을 제거하여 비교하기 위함\n",
        "\n",
        "\n",
        "def check(oname, rname):\n",
        "  n = rname.lower() # 영문의 경우 소문자, 대문자 차이를 제거하여 비교하기 위함\n",
        "  for i in range(0,len(n)//2):\n",
        "    if n[i] != n[-(i+1)]:\n",
        "      reversename = oname[::-1] # 뒤집힌 단어를 출력하기 위해서 문자열을 역순으로 입력, 공백을 살리기 위해 oname으로 변경\n",
        "      return \"\\n출력값 :\\n\"+\"뒤집힌 단어는 : \"+reversename + \"\\n입력된 단어는 회문이 아닙니다.\"\n",
        "\n",
        "  return \"\\n출력값 :\\n\"+\"뒤집힌 단어는 : \"+oname + \"\\n입력된 단어는 회문입니다.\" # 회문이면 문자열을 뒤집지 않아도 되어서 그대로 name을 출력함\n",
        "\n",
        "\n",
        "print(check(oname, rname))\n"
      ]
    },
    {
      "cell_type": "code",
      "source": [],
      "metadata": {
        "id": "r5nleFOYU-SV"
      },
      "execution_count": null,
      "outputs": []
    }
  ]
}